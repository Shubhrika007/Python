{
 "cells": [
  {
   "cell_type": "raw",
   "metadata": {},
   "source": [
    "What are packages?\n",
    "\n",
    "Packages are certain set of codes written by developers to carry out specfic tasks. For example what we have is just basic python. On top of that we have certain pacakges that help carry out certain tasks, For example numpy ans pandas are conatain codes for data science, Django is used for web development and so on. \n",
    "\n",
    "\n",
    "Installation of packages                             |    Import of packages\n",
    "-------------------------------------------------------------------------------------------------------------------------\n",
    "Installation requires an actie internet conncetion.  | Import doesn't require an active internet connection .\n",
    "Installation is a one time process.                  | Import of pacakages has to be done with every new jupyter notebook\n",
    "\n",
    "\n",
    "\n",
    "How to install packages\n",
    "\n",
    "1. pip install package_name\n",
    "\n",
    "     * If the package was not availabe in the system, it will download the latest version of the package in the working                enviornment.\n",
    "     * The latest version of package is available in the working environment, message will come, \"requirement already                  satisfied\".\n",
    "     * You have a package but that's not the lastest version. Package is available, but new version is available. In that case        it will ask you again new version is available; do you want to install latest version or not. If you say yes, it will          install the latest version, if you say no it will not install the latest version.\n",
    "2  conda install package_name\n",
    "\n",
    "pip install get the pacakges from python repository  whereas conda install gets it from anaconda repository.\n",
    "pip install is a superset and conatns more packages than conda repository which only conatins packages for data science.\n",
    "We mostly use pip install but conda install is useful if we are looking for some particular version of the packages.\n",
    "We can also download packages from github and paste it in your site packages folder.\n",
    "\n",
    "\n",
    "*** If you haven't changed the directory the packages will be installed in \n",
    "C drive --> Users --> Admin --> Anaconda3 --> Lib --> site packages (contains all packages you have downloaded)\n",
    "\n",
    "Some package maybe dependent on other packages also, so you need to understand all dependencies. But we don't want to get into these things generally, so what we do is pip install package_name"
   ]
  },
  {
   "cell_type": "code",
   "execution_count": 1,
   "metadata": {},
   "outputs": [
    {
     "name": "stdout",
     "output_type": "stream",
     "text": [
      "Requirement already satisfied: numpy in c:\\users\\pentium\\anaconda3\\lib\\site-packages (1.18.1)\n",
      "Note: you may need to restart the kernel to use updated packages.\n"
     ]
    }
   ],
   "source": [
    "pip install numpy"
   ]
  },
  {
   "cell_type": "raw",
   "metadata": {},
   "source": [
    "You can type pip install numpy in the jupyter notebook or in the anaconda prompt as well the packages will be downloaded in the same working directory, because ultimately both of them are IDEs. The actual work is happening in python interpreter only."
   ]
  },
  {
   "cell_type": "code",
   "execution_count": 2,
   "metadata": {},
   "outputs": [],
   "source": [
    "import numpy #This statement is fine but we also use the alias name of numpy with it."
   ]
  },
  {
   "cell_type": "code",
   "execution_count": 3,
   "metadata": {},
   "outputs": [],
   "source": [
    "import numpy as np #np is umpy's alias name"
   ]
  },
  {
   "cell_type": "code",
   "execution_count": null,
   "metadata": {},
   "outputs": [],
   "source": []
  }
 ],
 "metadata": {
  "kernelspec": {
   "display_name": "Python 3",
   "language": "python",
   "name": "python3"
  },
  "language_info": {
   "codemirror_mode": {
    "name": "ipython",
    "version": 3
   },
   "file_extension": ".py",
   "mimetype": "text/x-python",
   "name": "python",
   "nbconvert_exporter": "python",
   "pygments_lexer": "ipython3",
   "version": "3.7.6"
  }
 },
 "nbformat": 4,
 "nbformat_minor": 4
}
