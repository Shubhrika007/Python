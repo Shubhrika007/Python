{
 "cells": [
  {
   "cell_type": "markdown",
   "metadata": {},
   "source": [
    "## User defined functions (UDFs)\n"
   ]
  },
  {
   "cell_type": "raw",
   "metadata": {},
   "source": [
    "User Defined Function: Named entity which can be used multiple times once defined in the memory.\n",
    "\n",
    "We have a lot of in built functions in python but that's not the complete functionality that we want. \n",
    "\n",
    "for e.g. I work in a company and I want to calculate the salary of my employee based on years of experience, job profile, HR, allowances, etc. So the salary calculation part will differ for different companies. Suppose I have 100 empolyees and my salary calculation code is of  50 lines so either I can repeat the code for 100 employees individually or I can put the 50 line code in a function, give it some name and whenever i have to calculate salaries, call this function by simply writing its name and arguments. That's how we saved writing 100 x 50 lines of code.\n",
    "\n",
    "* UDFs are like customized functions.\n",
    "* UDfs reduce the code and further compilation time a lot.\n",
    "* UDFs defined in a notebook are defined in that notebook. They are not global but you can make a pacakge and then other can     import it as well.\n",
    "\n",
    "\n",
    "\n",
    " Syntax for UDFs:\n",
    "------------------------\n",
    "\n",
    "1. Function definition \n",
    "\n",
    "    def function_name(a1, a2, a3,.....):                where a1, a2, a3,.... are arguements of a function\n",
    "        logic \n",
    "        return statement\n",
    "            \n",
    "    - mandatory arguments\n",
    "    - optional arguments\n",
    "    - mix of mandatory and optional : optional argument MUST always follow mandatory arguments\n",
    "    \n",
    "    - *args : n positional arguments, 0 to n and args is a object name\n",
    "    - **kwargs : n keyword arguments, 0 to n\n",
    "\n",
    "    \n",
    "    \n",
    "2. Function calling\n",
    "    function_name(a1,a2,a3,...)\n",
    "    \n",
    "    - positional arguments\n",
    "    - keyword arguments\n",
    "    - mix of positional and keyword: keyword argument MUST always follow positional arguments \n",
    "    - / forward slash : is given in ceratin functions / methods to inform all args before / can be used only as positional args\n",
    "    \n",
    "\n",
    "\n"
   ]
  },
  {
   "cell_type": "markdown",
   "metadata": {},
   "source": [
    "### Create a UDF to sum two numbers"
   ]
  },
  {
   "cell_type": "code",
   "execution_count": 5,
   "metadata": {},
   "outputs": [],
   "source": [
    "#function definition \n",
    "\n",
    "def sum_2_nos(n1,n2):   \n",
    "    return n1+n2"
   ]
  },
  {
   "cell_type": "code",
   "execution_count": 6,
   "metadata": {},
   "outputs": [
    {
     "data": {
      "text/plain": [
       "5"
      ]
     },
     "execution_count": 6,
     "metadata": {},
     "output_type": "execute_result"
    }
   ],
   "source": [
    "#function calling\n",
    "\n",
    "sum_2_nos(2,3)"
   ]
  },
  {
   "cell_type": "code",
   "execution_count": 7,
   "metadata": {},
   "outputs": [
    {
     "ename": "NameError",
     "evalue": "name 'n1' is not defined",
     "output_type": "error",
     "traceback": [
      "\u001b[1;31m---------------------------------------------------------------------------\u001b[0m",
      "\u001b[1;31mNameError\u001b[0m                                 Traceback (most recent call last)",
      "\u001b[1;32m<ipython-input-7-1297faba884c>\u001b[0m in \u001b[0;36m<module>\u001b[1;34m\u001b[0m\n\u001b[1;32m----> 1\u001b[1;33m \u001b[0mn1\u001b[0m           \u001b[1;31m# n1 variable is only defined inside the UDF. Will show error when called separately\u001b[0m\u001b[1;33m\u001b[0m\u001b[1;33m\u001b[0m\u001b[0m\n\u001b[0m\u001b[0;32m      2\u001b[0m              \u001b[1;31m# But you can make n1 a gloabal variable for this notebook\u001b[0m\u001b[1;33m\u001b[0m\u001b[1;33m\u001b[0m\u001b[1;33m\u001b[0m\u001b[0m\n",
      "\u001b[1;31mNameError\u001b[0m: name 'n1' is not defined"
     ]
    }
   ],
   "source": [
    "n1           # n1 variable is only defined inside the UDF. Will show error when called separately\n",
    "             # But you can make n1 a gloabal variable for this notebook"
   ]
  },
  {
   "cell_type": "code",
   "execution_count": 8,
   "metadata": {},
   "outputs": [],
   "source": [
    "# print statement in the UDFS instead of return \n",
    "\n",
    "## In other languages the print statement inside a UDF will give syntax error but in puthon it does not give an error.\n",
    "\n",
    "def sum_2_nums(n1,n2):\n",
    "    print(n1+n2)"
   ]
  },
  {
   "cell_type": "code",
   "execution_count": 9,
   "metadata": {},
   "outputs": [],
   "source": [
    "a= sum_2_nos(6,7)  # when the UDF had a return statement, a is assinged the value 13"
   ]
  },
  {
   "cell_type": "code",
   "execution_count": 10,
   "metadata": {},
   "outputs": [
    {
     "data": {
      "text/plain": [
       "13"
      ]
     },
     "execution_count": 10,
     "metadata": {},
     "output_type": "execute_result"
    }
   ],
   "source": [
    "a"
   ]
  },
  {
   "cell_type": "code",
   "execution_count": 11,
   "metadata": {},
   "outputs": [
    {
     "name": "stdout",
     "output_type": "stream",
     "text": [
      "13\n"
     ]
    }
   ],
   "source": [
    "b= sum_2_nums(6,7) # when the UDF had a print statement, b is not assigned any value. B is Nonetype"
   ]
  },
  {
   "cell_type": "code",
   "execution_count": 12,
   "metadata": {},
   "outputs": [],
   "source": [
    "b # when we type b and run it, it doesn't have any value"
   ]
  },
  {
   "cell_type": "code",
   "execution_count": 13,
   "metadata": {},
   "outputs": [
    {
     "data": {
      "text/plain": [
       "NoneType"
      ]
     },
     "execution_count": 13,
     "metadata": {},
     "output_type": "execute_result"
    }
   ],
   "source": [
    "type(b)"
   ]
  },
  {
   "cell_type": "markdown",
   "metadata": {},
   "source": [
    "### UDF to subtract two numbers"
   ]
  },
  {
   "cell_type": "code",
   "execution_count": 14,
   "metadata": {},
   "outputs": [],
   "source": [
    "def sub_2_nos(n1,n2):\n",
    "    return n1-n2             #n1-n2 and n2-n1 are two different things here"
   ]
  },
  {
   "cell_type": "code",
   "execution_count": 15,
   "metadata": {},
   "outputs": [
    {
     "data": {
      "text/plain": [
       "-3"
      ]
     },
     "execution_count": 15,
     "metadata": {},
     "output_type": "execute_result"
    }
   ],
   "source": [
    "sub_2_nos(3,6)              # here 3 goes automatically to n1 and 6 to n2"
   ]
  },
  {
   "cell_type": "code",
   "execution_count": 16,
   "metadata": {},
   "outputs": [
    {
     "data": {
      "text/plain": [
       "3"
      ]
     },
     "execution_count": 16,
     "metadata": {},
     "output_type": "execute_result"
    }
   ],
   "source": [
    "sub_2_nos(6,3)              # here 6 goes automatically to n1 and 3 to n2"
   ]
  },
  {
   "cell_type": "markdown",
   "metadata": {},
   "source": [
    "###### In the function call we have something called as the positional argument. \n",
    "What are positional arguments?\n",
    "Like in the above two examples for sub_2_nos(3,6) and sub_2_nos(6,3) the n1, n2 are being taken care of based on the position of the arguments. #This aslo exists in the table insertion in SQL"
   ]
  },
  {
   "cell_type": "code",
   "execution_count": 17,
   "metadata": {},
   "outputs": [
    {
     "data": {
      "text/plain": [
       "2"
      ]
     },
     "execution_count": 17,
     "metadata": {},
     "output_type": "execute_result"
    }
   ],
   "source": [
    "sub_2_nos(n1=7,n2=5)"
   ]
  },
  {
   "cell_type": "code",
   "execution_count": 18,
   "metadata": {},
   "outputs": [
    {
     "data": {
      "text/plain": [
       "-2"
      ]
     },
     "execution_count": 18,
     "metadata": {},
     "output_type": "execute_result"
    }
   ],
   "source": [
    "sub_2_nos(n2=7,n1=5)"
   ]
  },
  {
   "cell_type": "markdown",
   "metadata": {},
   "source": [
    "##### In the function call we also have another way of passing arguments called the keywords arguments.\n",
    "What are keyword arguments? Like in the above example sub _2_nos(n1=7,n2=5) we have passed the arguments along with the variable names.\n",
    "* If we are working on someone else's code, how will we know the names of the arguments? \n",
    "* Solution : use help(UDF func_name) or UDF_func_name? to seee its documentation."
   ]
  },
  {
   "cell_type": "code",
   "execution_count": 20,
   "metadata": {},
   "outputs": [
    {
     "data": {
      "text/plain": [
       "10"
      ]
     },
     "execution_count": 20,
     "metadata": {},
     "output_type": "execute_result"
    }
   ],
   "source": [
    "sub_2_nos(20, n2=10)    # 20= n1 positional argument, n2=10 is keyword argument."
   ]
  },
  {
   "cell_type": "code",
   "execution_count": 21,
   "metadata": {},
   "outputs": [
    {
     "ename": "SyntaxError",
     "evalue": "positional argument follows keyword argument (<ipython-input-21-c7e308ee3aba>, line 1)",
     "output_type": "error",
     "traceback": [
      "\u001b[1;36m  File \u001b[1;32m\"<ipython-input-21-c7e308ee3aba>\"\u001b[1;36m, line \u001b[1;32m1\u001b[0m\n\u001b[1;33m    sub_2_nos(n1=20,10)\u001b[0m\n\u001b[1;37m                   ^\u001b[0m\n\u001b[1;31mSyntaxError\u001b[0m\u001b[1;31m:\u001b[0m positional argument follows keyword argument\n"
     ]
    }
   ],
   "source": [
    "sub_2_nos(n1=20,10)    # Here 10 will not go to n2. SyntaxError: positional argument follows keyword argument"
   ]
  },
  {
   "cell_type": "code",
   "execution_count": 22,
   "metadata": {},
   "outputs": [
    {
     "ename": "TypeError",
     "evalue": "sub_2_nos() got multiple values for argument 'n1'",
     "output_type": "error",
     "traceback": [
      "\u001b[1;31m---------------------------------------------------------------------------\u001b[0m",
      "\u001b[1;31mTypeError\u001b[0m                                 Traceback (most recent call last)",
      "\u001b[1;32m<ipython-input-22-30101040e8d1>\u001b[0m in \u001b[0;36m<module>\u001b[1;34m\u001b[0m\n\u001b[1;32m----> 1\u001b[1;33m \u001b[0msub_2_nos\u001b[0m\u001b[1;33m(\u001b[0m\u001b[1;36m10\u001b[0m\u001b[1;33m,\u001b[0m\u001b[0mn1\u001b[0m\u001b[1;33m=\u001b[0m\u001b[1;36m20\u001b[0m\u001b[1;33m)\u001b[0m    \u001b[1;31m# Here 10 will not go to n2. SyntaxError: positional argument follows keyword argument\u001b[0m\u001b[1;33m\u001b[0m\u001b[1;33m\u001b[0m\u001b[0m\n\u001b[0m",
      "\u001b[1;31mTypeError\u001b[0m: sub_2_nos() got multiple values for argument 'n1'"
     ]
    }
   ],
   "source": [
    "sub_2_nos(10,n1=20)    # Here 10 will not go to n2. SyntaxError: positional argument follows keyword argument"
   ]
  },
  {
   "cell_type": "markdown",
   "metadata": {},
   "source": [
    "These are just two arguments so we feel that 10 will go to n2, but in functions with more arguments, if we say these are the arguments let's say (n1, n2,n3,n4,n5,n6,n7) and we give (n2=3,1,2,3,n3=6,1,2) Now python can't automatically guess which argument will go where. Therefore positional arguments are followed by keyword arguments."
   ]
  },
  {
   "cell_type": "markdown",
   "metadata": {},
   "source": [
    "#### In the function call we can pass the arguments as a mix of both the positional arguments and keyword arguments.\n",
    "\n",
    "* ##### Keyword argument follows positional argument. That is the postional argument comes before the keyword argumets . (pk)"
   ]
  },
  {
   "cell_type": "markdown",
   "metadata": {},
   "source": [
    "## / forward slash : is given in ceratin functions / methods to inform all args before / can be used only as positional args\n",
    "\n",
    "/ forward slash cannot be used in the UDFs its only used by python developers. \n",
    "When there was python 1.0 there was no provision of the key word arguments. In python 2.0 only key word arguments were introduced. So any function that was taken from python 1.0 so / forward slash is a way to denote that the arguments can be given as positional arguments in that particular function only.\n",
    "There will also be functions where you will find arguments as (a1,a2,/,a3)which means that a1,a2 can only be postional arguments and a3 can be both positional and keyword. \n",
    "\n",
    "for example l1.index() where l1 is a list. "
   ]
  },
  {
   "cell_type": "code",
   "execution_count": 23,
   "metadata": {},
   "outputs": [],
   "source": [
    "l1= [1,2,3,4,5]"
   ]
  },
  {
   "cell_type": "code",
   "execution_count": 25,
   "metadata": {},
   "outputs": [
    {
     "ename": "TypeError",
     "evalue": "index() takes no keyword arguments",
     "output_type": "error",
     "traceback": [
      "\u001b[1;31m---------------------------------------------------------------------------\u001b[0m",
      "\u001b[1;31mTypeError\u001b[0m                                 Traceback (most recent call last)",
      "\u001b[1;32m<ipython-input-25-7acbb6031788>\u001b[0m in \u001b[0;36m<module>\u001b[1;34m\u001b[0m\n\u001b[1;32m----> 1\u001b[1;33m \u001b[0ml1\u001b[0m\u001b[1;33m.\u001b[0m\u001b[0mindex\u001b[0m\u001b[1;33m(\u001b[0m\u001b[0mvalue\u001b[0m \u001b[1;33m=\u001b[0m \u001b[1;36m2\u001b[0m\u001b[1;33m)\u001b[0m\u001b[1;33m\u001b[0m\u001b[1;33m\u001b[0m\u001b[0m\n\u001b[0m",
      "\u001b[1;31mTypeError\u001b[0m: index() takes no keyword arguments"
     ]
    }
   ],
   "source": [
    "l1.index(value = 2)   #here if we check the documentation we cannot use value = since it's a keyword argument \n",
    "                      # as per the documentation of the .index() method"
   ]
  },
  {
   "cell_type": "markdown",
   "metadata": {},
   "source": [
    "### You can re-write UDFs with the same name. It will overwrite the first/previous UDF. Its not recommended though."
   ]
  },
  {
   "cell_type": "code",
   "execution_count": 27,
   "metadata": {},
   "outputs": [],
   "source": [
    "def sub_2_nos(n1,n2):   #Both arguments here are MANDATORY arguments.\n",
    "    return n1-n2  "
   ]
  },
  {
   "cell_type": "code",
   "execution_count": 29,
   "metadata": {},
   "outputs": [
    {
     "ename": "TypeError",
     "evalue": "sub_2_nos() missing 2 required positional arguments: 'n1' and 'n2'",
     "output_type": "error",
     "traceback": [
      "\u001b[1;31m---------------------------------------------------------------------------\u001b[0m",
      "\u001b[1;31mTypeError\u001b[0m                                 Traceback (most recent call last)",
      "\u001b[1;32m<ipython-input-29-62f9a94f8f02>\u001b[0m in \u001b[0;36m<module>\u001b[1;34m\u001b[0m\n\u001b[1;32m----> 1\u001b[1;33m \u001b[0msub_2_nos\u001b[0m\u001b[1;33m(\u001b[0m\u001b[1;33m)\u001b[0m  \u001b[1;31m#shows an error because we haven't passed any arguments till now\u001b[0m\u001b[1;33m\u001b[0m\u001b[1;33m\u001b[0m\u001b[0m\n\u001b[0m",
      "\u001b[1;31mTypeError\u001b[0m: sub_2_nos() missing 2 required positional arguments: 'n1' and 'n2'"
     ]
    }
   ],
   "source": [
    "sub_2_nos()  #shows an error because we haven't passed any arguments till now"
   ]
  },
  {
   "cell_type": "raw",
   "metadata": {},
   "source": [
    "We have seen certain functions like the print or index where we can pass certain arguments and we can skip some of them.\n",
    "So in the function def we have the option to make certain arguments optional. So we can gie default value to the argument and that argument will become optional."
   ]
  },
  {
   "cell_type": "code",
   "execution_count": 35,
   "metadata": {},
   "outputs": [],
   "source": [
    "def sub_2_nos(n1=0,n2=0):       # Both arguments here are OPTIONAL arguments. \n",
    "         return n1-n2           # n1=0,n2=0 are the default values of n1,n2. We can have other default values other than zero.          "
   ]
  },
  {
   "cell_type": "code",
   "execution_count": 34,
   "metadata": {},
   "outputs": [
    {
     "data": {
      "text/plain": [
       "1"
      ]
     },
     "execution_count": 34,
     "metadata": {},
     "output_type": "execute_result"
    }
   ],
   "source": [
    "sub_2_nos()   # Now sub_2_nos() without any arguments doesn't show any error. This is not null. If we pass none in n1,n2 then \n",
    "              # it will mean that it is none"
   ]
  },
  {
   "cell_type": "code",
   "execution_count": 44,
   "metadata": {},
   "outputs": [],
   "source": [
    "def sub_2_nos(n1=None,n2=None):\n",
    "    return n1-n2"
   ]
  },
  {
   "cell_type": "code",
   "execution_count": 45,
   "metadata": {},
   "outputs": [
    {
     "ename": "TypeError",
     "evalue": "unsupported operand type(s) for -: 'NoneType' and 'NoneType'",
     "output_type": "error",
     "traceback": [
      "\u001b[1;31m---------------------------------------------------------------------------\u001b[0m",
      "\u001b[1;31mTypeError\u001b[0m                                 Traceback (most recent call last)",
      "\u001b[1;32m<ipython-input-45-b8fa7c247038>\u001b[0m in \u001b[0;36m<module>\u001b[1;34m\u001b[0m\n\u001b[1;32m----> 1\u001b[1;33m \u001b[0msub_2_nos\u001b[0m\u001b[1;33m(\u001b[0m\u001b[1;33m)\u001b[0m\u001b[1;33m\u001b[0m\u001b[1;33m\u001b[0m\u001b[0m\n\u001b[0m",
      "\u001b[1;32m<ipython-input-44-99db5da5668a>\u001b[0m in \u001b[0;36msub_2_nos\u001b[1;34m(n1, n2)\u001b[0m\n\u001b[0;32m      1\u001b[0m \u001b[1;32mdef\u001b[0m \u001b[0msub_2_nos\u001b[0m\u001b[1;33m(\u001b[0m\u001b[0mn1\u001b[0m\u001b[1;33m=\u001b[0m\u001b[1;32mNone\u001b[0m\u001b[1;33m,\u001b[0m\u001b[0mn2\u001b[0m\u001b[1;33m=\u001b[0m\u001b[1;32mNone\u001b[0m\u001b[1;33m)\u001b[0m\u001b[1;33m:\u001b[0m\u001b[1;33m\u001b[0m\u001b[1;33m\u001b[0m\u001b[0m\n\u001b[1;32m----> 2\u001b[1;33m     \u001b[1;32mreturn\u001b[0m \u001b[0mn1\u001b[0m\u001b[1;33m-\u001b[0m\u001b[0mn2\u001b[0m\u001b[1;33m\u001b[0m\u001b[1;33m\u001b[0m\u001b[0m\n\u001b[0m",
      "\u001b[1;31mTypeError\u001b[0m: unsupported operand type(s) for -: 'NoneType' and 'NoneType'"
     ]
    }
   ],
   "source": [
    "sub_2_nos()"
   ]
  },
  {
   "cell_type": "code",
   "execution_count": 46,
   "metadata": {},
   "outputs": [],
   "source": [
    "def sub_2_nos(n1=0,n2=0):\n",
    "    return n1-n2"
   ]
  },
  {
   "cell_type": "code",
   "execution_count": 47,
   "metadata": {},
   "outputs": [
    {
     "data": {
      "text/plain": [
       "10"
      ]
     },
     "execution_count": 47,
     "metadata": {},
     "output_type": "execute_result"
    }
   ],
   "source": [
    "sub_2_nos(10)  # takes n1=10"
   ]
  },
  {
   "cell_type": "code",
   "execution_count": 48,
   "metadata": {},
   "outputs": [
    {
     "data": {
      "text/plain": [
       "-10"
      ]
     },
     "execution_count": 48,
     "metadata": {},
     "output_type": "execute_result"
    }
   ],
   "source": [
    "sub_2_nos(n2=10)"
   ]
  },
  {
   "cell_type": "markdown",
   "metadata": {},
   "source": [
    "### When the argument is not mentioned in the function call. It's going to take the default value.]\n",
    "e.g. .index() method in which the start= 0 by default"
   ]
  },
  {
   "cell_type": "code",
   "execution_count": 49,
   "metadata": {},
   "outputs": [],
   "source": [
    "def sub_2_nos(n1,n2=0):  #One argument is mandatory and other argument is optional\n",
    "    return n1- n2"
   ]
  },
  {
   "cell_type": "code",
   "execution_count": 51,
   "metadata": {},
   "outputs": [
    {
     "ename": "SyntaxError",
     "evalue": "non-default argument follows default argument (<ipython-input-51-3d4f8d3e90a8>, line 1)",
     "output_type": "error",
     "traceback": [
      "\u001b[1;36m  File \u001b[1;32m\"<ipython-input-51-3d4f8d3e90a8>\"\u001b[1;36m, line \u001b[1;32m1\u001b[0m\n\u001b[1;33m    def sub_2_nos(n2=0,n1):\u001b[0m\n\u001b[1;37m                 ^\u001b[0m\n\u001b[1;31mSyntaxError\u001b[0m\u001b[1;31m:\u001b[0m non-default argument follows default argument\n"
     ]
    }
   ],
   "source": [
    "def sub_2_nos(n2=0,n1):  \n",
    "    return n1- n2"
   ]
  },
  {
   "cell_type": "markdown",
   "metadata": {},
   "source": [
    "SyntaxError: non-default argument follows default argument\n",
    "\n",
    "### Optional/default argument MUST always follow mandatory/non default argument. (MO) \n",
    "Optional are those in which we give default values. Like n1=0 \n"
   ]
  },
  {
   "cell_type": "code",
   "execution_count": 53,
   "metadata": {},
   "outputs": [],
   "source": [
    "def sub_2_nos(n2,n1=0):  \n",
    "    return n1- n2"
   ]
  },
  {
   "cell_type": "raw",
   "metadata": {},
   "source": [
    "In the function definition we can define the arguments to be mandatory, optional or a mix of both whereas in function call we define the arguments to be positional, keywords or both. "
   ]
  },
  {
   "cell_type": "markdown",
   "metadata": {},
   "source": [
    "### Write a UDF to sum 3 numbers"
   ]
  },
  {
   "cell_type": "code",
   "execution_count": 56,
   "metadata": {},
   "outputs": [],
   "source": [
    "def sum_3_nos(a,b,c):\n",
    "    return a+b+c \n",
    "# But what if we have n numbers? "
   ]
  },
  {
   "cell_type": "markdown",
   "metadata": {},
   "source": [
    "### Write a UDF to sum n numbers"
   ]
  },
  {
   "cell_type": "code",
   "execution_count": 59,
   "metadata": {},
   "outputs": [],
   "source": [
    "def Sum(*args):         # *args is a way to define multiple arguments. We can use any variable with the asterisk (e.g. *a,*ab..)\n",
    "    return sum(args)    # *args is widely used.  *args : n positional arguments, 0 to n and args is a object name"
   ]
  },
  {
   "cell_type": "code",
   "execution_count": 58,
   "metadata": {},
   "outputs": [
    {
     "data": {
      "text/plain": [
       "28"
      ]
     },
     "execution_count": 58,
     "metadata": {},
     "output_type": "execute_result"
    }
   ],
   "source": [
    "Sum(7,6,5,4,3,2,1,0)"
   ]
  },
  {
   "cell_type": "code",
   "execution_count": 61,
   "metadata": {},
   "outputs": [],
   "source": [
    "def type_args(*args):\n",
    "    return type(args)"
   ]
  },
  {
   "cell_type": "code",
   "execution_count": 65,
   "metadata": {},
   "outputs": [
    {
     "data": {
      "text/plain": [
       "tuple"
      ]
     },
     "execution_count": 65,
     "metadata": {},
     "output_type": "execute_result"
    }
   ],
   "source": [
    "type_args(1,2,3,4,5,6,7) # i.e in UDFs *args is stored in the form of a tuple"
   ]
  },
  {
   "cell_type": "code",
   "execution_count": 66,
   "metadata": {},
   "outputs": [],
   "source": [
    "args= 1,2,3,4,5,6,7 #args is a tuple. "
   ]
  },
  {
   "cell_type": "markdown",
   "metadata": {},
   "source": [
    "*args is a tuple which is heterogenous. If you input any string alue in it, it will give an error. "
   ]
  },
  {
   "cell_type": "code",
   "execution_count": 68,
   "metadata": {},
   "outputs": [
    {
     "ename": "TypeError",
     "evalue": "unsupported operand type(s) for +: 'int' and 'str'",
     "output_type": "error",
     "traceback": [
      "\u001b[1;31m---------------------------------------------------------------------------\u001b[0m",
      "\u001b[1;31mTypeError\u001b[0m                                 Traceback (most recent call last)",
      "\u001b[1;32m<ipython-input-68-06b934226a89>\u001b[0m in \u001b[0;36m<module>\u001b[1;34m\u001b[0m\n\u001b[1;32m----> 1\u001b[1;33m \u001b[0mSum\u001b[0m\u001b[1;33m(\u001b[0m\u001b[1;36m1\u001b[0m\u001b[1;33m,\u001b[0m\u001b[1;36m2\u001b[0m\u001b[1;33m,\u001b[0m\u001b[1;34m'py'\u001b[0m\u001b[1;33m,\u001b[0m\u001b[1;36m3\u001b[0m\u001b[1;33m,\u001b[0m\u001b[1;36m4\u001b[0m\u001b[1;33m,\u001b[0m\u001b[1;36m5\u001b[0m\u001b[1;33m,\u001b[0m\u001b[1;36m6\u001b[0m\u001b[1;33m,\u001b[0m\u001b[1;36m7\u001b[0m\u001b[1;33m)\u001b[0m\u001b[1;33m\u001b[0m\u001b[1;33m\u001b[0m\u001b[0m\n\u001b[0m",
      "\u001b[1;32m<ipython-input-59-ea70ed82546d>\u001b[0m in \u001b[0;36mSum\u001b[1;34m(*args)\u001b[0m\n\u001b[0;32m      1\u001b[0m \u001b[1;32mdef\u001b[0m \u001b[0mSum\u001b[0m\u001b[1;33m(\u001b[0m\u001b[1;33m*\u001b[0m\u001b[0margs\u001b[0m\u001b[1;33m)\u001b[0m\u001b[1;33m:\u001b[0m         \u001b[1;31m# *args is a way to define multiple arguments. We can use any variable with the asterisk (e.g. *a,*ab..)\u001b[0m\u001b[1;33m\u001b[0m\u001b[1;33m\u001b[0m\u001b[0m\n\u001b[1;32m----> 2\u001b[1;33m     \u001b[1;32mreturn\u001b[0m \u001b[0msum\u001b[0m\u001b[1;33m(\u001b[0m\u001b[0margs\u001b[0m\u001b[1;33m)\u001b[0m    \u001b[1;31m# *args is widely used.\u001b[0m\u001b[1;33m\u001b[0m\u001b[1;33m\u001b[0m\u001b[0m\n\u001b[0m",
      "\u001b[1;31mTypeError\u001b[0m: unsupported operand type(s) for +: 'int' and 'str'"
     ]
    }
   ],
   "source": [
    "Sum(1,2,'py',3,4,5,6,7)"
   ]
  },
  {
   "cell_type": "markdown",
   "metadata": {},
   "source": [
    "#### Default sum function will not work on the mix of data types. "
   ]
  },
  {
   "cell_type": "markdown",
   "metadata": {},
   "source": [
    "### Write a UDF to sum n numbers, UDF should take care of data types as well."
   ]
  },
  {
   "cell_type": "code",
   "execution_count": 80,
   "metadata": {},
   "outputs": [],
   "source": [
    "def Sum_n_nos(*args):\n",
    "    sum=0\n",
    "    for i in args:\n",
    "        if type(i) in (int, float):   # alternative: if type(i)==int or type(i)==float \n",
    "            sum= sum+ i               # don't  write type(i)== int or float (common mistake). \n",
    "    return sum                        # 'and','or' are used to combine boolean values. Float here is not boolean."
   ]
  },
  {
   "cell_type": "code",
   "execution_count": 82,
   "metadata": {},
   "outputs": [
    {
     "data": {
      "text/plain": [
       "35.5"
      ]
     },
     "execution_count": 82,
     "metadata": {},
     "output_type": "execute_result"
    }
   ],
   "source": [
    "Sum_n_nos(1,'py',2,3,4,5,6,7,7.5)"
   ]
  },
  {
   "cell_type": "code",
   "execution_count": 91,
   "metadata": {},
   "outputs": [
    {
     "data": {
      "text/plain": [
       "[1, 2, 3, 4, 5]"
      ]
     },
     "execution_count": 91,
     "metadata": {},
     "output_type": "execute_result"
    }
   ],
   "source": [
    "l1"
   ]
  },
  {
   "cell_type": "code",
   "execution_count": 92,
   "metadata": {},
   "outputs": [
    {
     "data": {
      "text/plain": [
       "15"
      ]
     },
     "execution_count": 92,
     "metadata": {},
     "output_type": "execute_result"
    }
   ],
   "source": [
    "sum(l1)"
   ]
  },
  {
   "cell_type": "code",
   "execution_count": 85,
   "metadata": {},
   "outputs": [],
   "source": [
    "# Alternative UDF for sum of n numbers while taking care of the datatypes. \n",
    "\n",
    "def Sum_n_nos_alt(*args):                \n",
    "    l1=[]\n",
    "    for i in args:\n",
    "        if type(i) in (int, float):  #we are indexing here. Based on the condition checking we are putting the data in l1=[]\n",
    "            l1.append(i)\n",
    "    return sum(l1)"
   ]
  },
  {
   "cell_type": "markdown",
   "metadata": {},
   "source": [
    "* l1 = [1,2,3,4,5] is a global list (variable) that we have in this jupyter notebook where as the l1=[ ] blank list in the Sum_n_nos_alt is a list defined only for this UDF. it has no meaning outside the UDF. It will not overwrite  l1 = [1,2,3,4,5]. l1=[ ] is local to the UDF Sum_n_nos_alt."
   ]
  },
  {
   "cell_type": "code",
   "execution_count": 95,
   "metadata": {},
   "outputs": [
    {
     "data": {
      "text/plain": [
       "0"
      ]
     },
     "execution_count": 95,
     "metadata": {},
     "output_type": "execute_result"
    }
   ],
   "source": [
    "Sum_n_nos_alt(l1)     #here l1 is passed as a  list. ([1,2,3,4,5]). This is not of int/float type . Therefore, Sum=0"
   ]
  },
  {
   "cell_type": "code",
   "execution_count": 88,
   "metadata": {},
   "outputs": [
    {
     "data": {
      "text/plain": [
       "35.5"
      ]
     },
     "execution_count": 88,
     "metadata": {},
     "output_type": "execute_result"
    }
   ],
   "source": [
    "Sum_n_nos_alt(1,2,3,'py', 4,5,6,7,7.5)"
   ]
  },
  {
   "cell_type": "raw",
   "metadata": {},
   "source": [
    "To see in which line did you make the error, in other IDEs they are directly visible but in Jupyter notebook they are not. To make the line numbers visible, go to View --> Toggle line numbers. Each cell will have numbers starting from 1 till the number of lines occupied by the code in that cell."
   ]
  },
  {
   "cell_type": "code",
   "execution_count": 90,
   "metadata": {},
   "outputs": [
    {
     "data": {
      "text/plain": [
       "0"
      ]
     },
     "execution_count": 90,
     "metadata": {},
     "output_type": "execute_result"
    }
   ],
   "source": [
    "Sum_n_nos()     # *args can have zero arguments as well."
   ]
  },
  {
   "cell_type": "markdown",
   "metadata": {},
   "source": [
    "##### *args is for the function definition"
   ]
  },
  {
   "cell_type": "raw",
   "metadata": {},
   "source": [
    "we can also use \n",
    "def Sum_n_nos(a,b,*args):            # where the first two are mandatory and 3rd is default \n",
    "    sum=0\n",
    "    for i in args:\n",
    "        if type(i) in (int, float):   \n",
    "            sum= sum+ i               \n",
    "    return sum"
   ]
  },
  {
   "cell_type": "code",
   "execution_count": 96,
   "metadata": {},
   "outputs": [],
   "source": [
    "def type_kwargs(**kwargs):\n",
    "    return type(kwargs)"
   ]
  },
  {
   "cell_type": "code",
   "execution_count": 99,
   "metadata": {},
   "outputs": [
    {
     "data": {
      "text/plain": [
       "dict"
      ]
     },
     "execution_count": 99,
     "metadata": {},
     "output_type": "execute_result"
    }
   ],
   "source": [
    "type_kwargs()"
   ]
  },
  {
   "cell_type": "code",
   "execution_count": 100,
   "metadata": {},
   "outputs": [
    {
     "data": {
      "text/plain": [
       "dict"
      ]
     },
     "execution_count": 100,
     "metadata": {},
     "output_type": "execute_result"
    }
   ],
   "source": [
    "type_kwargs(val=12,a=12)"
   ]
  },
  {
   "cell_type": "markdown",
   "metadata": {},
   "source": [
    "##### *   single star( asterisk) means positional \n",
    "##### ** doule star(asterisk) means keyword"
   ]
  },
  {
   "cell_type": "markdown",
   "metadata": {},
   "source": [
    "* In python whenever we the the complete values, v1,v2,v3.... it will either be a tuple or a list.\n",
    "* Whenever we have given a key and value type of thing it will always be a dictionary."
   ]
  },
  {
   "cell_type": "code",
   "execution_count": 102,
   "metadata": {},
   "outputs": [
    {
     "ename": "TypeError",
     "evalue": "type_kwargs() takes 0 positional arguments but 5 were given",
     "output_type": "error",
     "traceback": [
      "\u001b[1;31m---------------------------------------------------------------------------\u001b[0m",
      "\u001b[1;31mTypeError\u001b[0m                                 Traceback (most recent call last)",
      "\u001b[1;32m<ipython-input-102-a1b59dbaf808>\u001b[0m in \u001b[0;36m<module>\u001b[1;34m\u001b[0m\n\u001b[1;32m----> 1\u001b[1;33m \u001b[0mtype_kwargs\u001b[0m\u001b[1;33m(\u001b[0m\u001b[1;36m1\u001b[0m\u001b[1;33m,\u001b[0m\u001b[1;36m2\u001b[0m\u001b[1;33m,\u001b[0m\u001b[1;36m3\u001b[0m\u001b[1;33m,\u001b[0m\u001b[1;36m4\u001b[0m\u001b[1;33m,\u001b[0m\u001b[1;36m5\u001b[0m\u001b[1;33m)\u001b[0m    \u001b[1;31m# I cannot past the positional arguments here only keyword.\u001b[0m\u001b[1;33m\u001b[0m\u001b[1;33m\u001b[0m\u001b[0m\n\u001b[0m",
      "\u001b[1;31mTypeError\u001b[0m: type_kwargs() takes 0 positional arguments but 5 were given"
     ]
    }
   ],
   "source": [
    "type_kwargs(1,2,3,4,5)    # I cannot past the positional arguments here only keyword."
   ]
  },
  {
   "cell_type": "markdown",
   "metadata": {},
   "source": [
    "### Write a UDF to find sum or the arguments where the UDF takes only keyword arguments. Also take care of the datatypes."
   ]
  },
  {
   "cell_type": "code",
   "execution_count": 112,
   "metadata": {},
   "outputs": [],
   "source": [
    "def Sum_kwargs(**kwargs):\n",
    "    Sum=0\n",
    "    for i in kwargs.values():\n",
    "        if type(i) in (float,int):\n",
    "            Sum += i  #sum =sum+i\n",
    "    return Sum        "
   ]
  },
  {
   "cell_type": "code",
   "execution_count": 114,
   "metadata": {},
   "outputs": [
    {
     "data": {
      "text/plain": [
       "67"
      ]
     },
     "execution_count": 114,
     "metadata": {},
     "output_type": "execute_result"
    }
   ],
   "source": [
    "Sum_kwargs(a=20,b=7,c=30, py = 10)"
   ]
  },
  {
   "cell_type": "code",
   "execution_count": 122,
   "metadata": {},
   "outputs": [],
   "source": [
    "#We can use *args and **kwargs together\n",
    "\n",
    "def funct_name(a,b,c, *args,d=0,e=10, **kwargs):\n",
    "    return (a,b,c, args,d,e,kwargs)\n",
    "\n",
    "\n",
    "# a,b,c are mandatory arguments.(func defintion) Mandatory arguments can be both positional and keyword (func calling).\n",
    "#But if a,b,c are keyword args, *args can't be used cause they are positonal and positional arguments come \n",
    "#before keyword args. Also, d=0, e=10 can com eon either side of **kwargs, right or left.\n",
    "\n",
    "# What people generally prefer:\n",
    "#If I have to give n number of positional arguments then I will not write d=0,e=10 i.e default values because \n",
    "# if I have multiple positional arguments then d,e can only be given as keyword arguments\n",
    "#If I have to give default values I will not write *args i.e. positioal arguments.\n",
    "# We cannot skip writing arguments with , only default values can only be skipped. \n"
   ]
  },
  {
   "cell_type": "code",
   "execution_count": 123,
   "metadata": {},
   "outputs": [
    {
     "ename": "TypeError",
     "evalue": "funct_name() missing 3 required positional arguments: 'a', 'b', and 'c'",
     "output_type": "error",
     "traceback": [
      "\u001b[1;31m---------------------------------------------------------------------------\u001b[0m",
      "\u001b[1;31mTypeError\u001b[0m                                 Traceback (most recent call last)",
      "\u001b[1;32m<ipython-input-123-1c653fb41323>\u001b[0m in \u001b[0;36m<module>\u001b[1;34m\u001b[0m\n\u001b[1;32m----> 1\u001b[1;33m \u001b[0mfunct_name\u001b[0m\u001b[1;33m(\u001b[0m\u001b[1;33m)\u001b[0m         \u001b[1;31m# In this case all of the values can be skipped except a,b,c cause these are mandatory\u001b[0m\u001b[1;33m\u001b[0m\u001b[1;33m\u001b[0m\u001b[0m\n\u001b[0m",
      "\u001b[1;31mTypeError\u001b[0m: funct_name() missing 3 required positional arguments: 'a', 'b', and 'c'"
     ]
    }
   ],
   "source": [
    "funct_name()         # In this case all of the values can be skipped except a,b,c cause these are mandatory \n"
   ]
  },
  {
   "cell_type": "code",
   "execution_count": 124,
   "metadata": {},
   "outputs": [
    {
     "data": {
      "text/plain": [
       "(1, 2, 3, (4, 5, 6, 7, 8, 9, 0), 0, 10)"
      ]
     },
     "execution_count": 124,
     "metadata": {},
     "output_type": "execute_result"
    }
   ],
   "source": [
    "funct_name(1,2,3,4,5,6,7,8,9,0)   #tuple of args, d,e gave default values"
   ]
  },
  {
   "cell_type": "code",
   "execution_count": 127,
   "metadata": {},
   "outputs": [
    {
     "data": {
      "text/plain": [
       "(1, 2, 3, (4, 5, 6, 7, 8, 9, 0), 7, 27)"
      ]
     },
     "execution_count": 127,
     "metadata": {},
     "output_type": "execute_result"
    }
   ],
   "source": [
    "funct_name(1,2,3,4,5,6,7,8,9,0,d=7,e=27) #d,e cannot be passed as positional arguments cause python won't be able \n",
    "                                         # to differrentiate between args and d and e."
   ]
  },
  {
   "cell_type": "code",
   "execution_count": 128,
   "metadata": {},
   "outputs": [
    {
     "data": {
      "text/plain": [
       "(1, 2, 3, (4, 5, 6, 7, 8, 9, 0), 7, 27)"
      ]
     },
     "execution_count": 128,
     "metadata": {},
     "output_type": "execute_result"
    }
   ],
   "source": [
    "funct_name(1,2,3,4,5,6,7,8,9,0,d=7,e=27,z=19,y=20)"
   ]
  },
  {
   "cell_type": "code",
   "execution_count": 129,
   "metadata": {},
   "outputs": [
    {
     "data": {
      "text/plain": [
       "(1, 2, 3, (4, 5, 6, 7, 8, 9, 0), 7, 27)"
      ]
     },
     "execution_count": 129,
     "metadata": {},
     "output_type": "execute_result"
    }
   ],
   "source": [
    "funct_name(1,2,3,4,5,6,7,8,9,0,d=7,e=27) #didn't show any empty dictionary for kwargs"
   ]
  },
  {
   "cell_type": "code",
   "execution_count": 131,
   "metadata": {},
   "outputs": [],
   "source": [
    "def funct_name(a,b,c, *args,d,e, **kwargs):\n",
    "    return (a,b,c, args,d,e,kwargs)\n",
    "# if I make d,e mandatory te function defintion will not show an y error because it will take d,e as keyword arguments only"
   ]
  },
  {
   "cell_type": "code",
   "execution_count": 133,
   "metadata": {},
   "outputs": [
    {
     "ename": "TypeError",
     "evalue": "funct_name() missing 2 required keyword-only arguments: 'd' and 'e'",
     "output_type": "error",
     "traceback": [
      "\u001b[1;31m---------------------------------------------------------------------------\u001b[0m",
      "\u001b[1;31mTypeError\u001b[0m                                 Traceback (most recent call last)",
      "\u001b[1;32m<ipython-input-133-73e4896dc1a4>\u001b[0m in \u001b[0;36m<module>\u001b[1;34m\u001b[0m\n\u001b[1;32m----> 1\u001b[1;33m \u001b[0mfunct_name\u001b[0m\u001b[1;33m(\u001b[0m\u001b[1;36m1\u001b[0m\u001b[1;33m,\u001b[0m\u001b[1;36m2\u001b[0m\u001b[1;33m,\u001b[0m\u001b[1;36m3\u001b[0m\u001b[1;33m,\u001b[0m\u001b[1;36m4\u001b[0m\u001b[1;33m,\u001b[0m\u001b[1;36m5\u001b[0m\u001b[1;33m,\u001b[0m\u001b[1;36m6\u001b[0m\u001b[1;33m,\u001b[0m\u001b[1;36m7\u001b[0m\u001b[1;33m,\u001b[0m\u001b[1;36m8\u001b[0m\u001b[1;33m,\u001b[0m\u001b[1;36m9\u001b[0m\u001b[1;33m,\u001b[0m\u001b[1;36m0\u001b[0m\u001b[1;33m)\u001b[0m\u001b[1;33m\u001b[0m\u001b[1;33m\u001b[0m\u001b[0m\n\u001b[0m",
      "\u001b[1;31mTypeError\u001b[0m: funct_name() missing 2 required keyword-only arguments: 'd' and 'e'"
     ]
    }
   ],
   "source": [
    "funct_name(1,2,3,4,5,6,7,8,9,0) #since d,e weren't passed as keywords and they are mandatory it shows an error"
   ]
  },
  {
   "cell_type": "raw",
   "metadata": {},
   "source": [
    "Go for this way while defining a UDF\n",
    "def func_name( a,b,c,*args,**kwargs)\n",
    "i.e. some arguments, some positional arguments and some keyword arguments"
   ]
  },
  {
   "cell_type": "code",
   "execution_count": 134,
   "metadata": {},
   "outputs": [],
   "source": [
    "d1={'py':1,a:2}"
   ]
  },
  {
   "cell_type": "code",
   "execution_count": 136,
   "metadata": {},
   "outputs": [
    {
     "ename": "TypeError",
     "evalue": "funct_name() missing 2 required positional arguments: 'b' and 'c'",
     "output_type": "error",
     "traceback": [
      "\u001b[1;31m---------------------------------------------------------------------------\u001b[0m",
      "\u001b[1;31mTypeError\u001b[0m                                 Traceback (most recent call last)",
      "\u001b[1;32m<ipython-input-136-8d914de6e760>\u001b[0m in \u001b[0;36m<module>\u001b[1;34m\u001b[0m\n\u001b[1;32m----> 1\u001b[1;33m \u001b[0mfunct_name\u001b[0m\u001b[1;33m(\u001b[0m\u001b[0md1\u001b[0m\u001b[1;33m)\u001b[0m \u001b[1;31m#**kwargs is a way to pass keyword arguments and not to use dictionaries as arguments.\u001b[0m\u001b[1;33m\u001b[0m\u001b[1;33m\u001b[0m\u001b[0m\n\u001b[0m",
      "\u001b[1;31mTypeError\u001b[0m: funct_name() missing 2 required positional arguments: 'b' and 'c'"
     ]
    }
   ],
   "source": [
    "funct_name(d1) #**kwargs is a way to pass keyword arguments and not to use dictionaries as arguments."
   ]
  },
  {
   "cell_type": "code",
   "execution_count": 137,
   "metadata": {},
   "outputs": [],
   "source": [
    "t1=(1,2,3,4,5) "
   ]
  },
  {
   "cell_type": "code",
   "execution_count": 139,
   "metadata": {},
   "outputs": [
    {
     "data": {
      "text/plain": [
       "0"
      ]
     },
     "execution_count": 139,
     "metadata": {},
     "output_type": "execute_result"
    }
   ],
   "source": [
    "Sum_n_nos(t1) # Sum= 0 cause tuple is considered as a single element. THerefore can't sum the values inside the tuple\n",
    "              # cause its type is not int, it's tuple."
   ]
  },
  {
   "cell_type": "code",
   "execution_count": null,
   "metadata": {},
   "outputs": [],
   "source": []
  }
 ],
 "metadata": {
  "kernelspec": {
   "display_name": "Python 3",
   "language": "python",
   "name": "python3"
  },
  "language_info": {
   "codemirror_mode": {
    "name": "ipython",
    "version": 3
   },
   "file_extension": ".py",
   "mimetype": "text/x-python",
   "name": "python",
   "nbconvert_exporter": "python",
   "pygments_lexer": "ipython3",
   "version": "3.7.6"
  }
 },
 "nbformat": 4,
 "nbformat_minor": 4
}
